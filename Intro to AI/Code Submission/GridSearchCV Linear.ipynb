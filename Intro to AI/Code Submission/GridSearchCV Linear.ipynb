{
 "cells": [
  {
   "attachments": {},
   "cell_type": "markdown",
   "id": "16c15d44",
   "metadata": {},
   "source": [
    "Import libraries"
   ]
  },
  {
   "cell_type": "code",
   "execution_count": 1,
   "id": "noticed-visit",
   "metadata": {},
   "outputs": [],
   "source": [
    "import numpy as np\n",
    "import pandas as pd"
   ]
  },
  {
   "attachments": {},
   "cell_type": "markdown",
   "id": "4fe784d8",
   "metadata": {},
   "source": [
    "Load Data"
   ]
  },
  {
   "cell_type": "code",
   "execution_count": 2,
   "id": "weekly-responsibility",
   "metadata": {},
   "outputs": [
    {
     "data": {
      "text/html": [
       "<div>\n",
       "<style scoped>\n",
       "    .dataframe tbody tr th:only-of-type {\n",
       "        vertical-align: middle;\n",
       "    }\n",
       "\n",
       "    .dataframe tbody tr th {\n",
       "        vertical-align: top;\n",
       "    }\n",
       "\n",
       "    .dataframe thead th {\n",
       "        text-align: right;\n",
       "    }\n",
       "</style>\n",
       "<table border=\"1\" class=\"dataframe\">\n",
       "  <thead>\n",
       "    <tr style=\"text-align: right;\">\n",
       "      <th></th>\n",
       "      <th>AT</th>\n",
       "      <th>V</th>\n",
       "      <th>AP</th>\n",
       "      <th>RH</th>\n",
       "      <th>PE</th>\n",
       "    </tr>\n",
       "  </thead>\n",
       "  <tbody>\n",
       "    <tr>\n",
       "      <th>0</th>\n",
       "      <td>14.96</td>\n",
       "      <td>41.76</td>\n",
       "      <td>1024.07</td>\n",
       "      <td>73.17</td>\n",
       "      <td>463.26</td>\n",
       "    </tr>\n",
       "    <tr>\n",
       "      <th>1</th>\n",
       "      <td>25.18</td>\n",
       "      <td>62.96</td>\n",
       "      <td>1020.04</td>\n",
       "      <td>59.08</td>\n",
       "      <td>444.37</td>\n",
       "    </tr>\n",
       "    <tr>\n",
       "      <th>2</th>\n",
       "      <td>5.11</td>\n",
       "      <td>39.40</td>\n",
       "      <td>1012.16</td>\n",
       "      <td>92.14</td>\n",
       "      <td>488.56</td>\n",
       "    </tr>\n",
       "    <tr>\n",
       "      <th>3</th>\n",
       "      <td>20.86</td>\n",
       "      <td>57.32</td>\n",
       "      <td>1010.24</td>\n",
       "      <td>76.64</td>\n",
       "      <td>446.48</td>\n",
       "    </tr>\n",
       "    <tr>\n",
       "      <th>4</th>\n",
       "      <td>10.82</td>\n",
       "      <td>37.50</td>\n",
       "      <td>1009.23</td>\n",
       "      <td>96.62</td>\n",
       "      <td>473.90</td>\n",
       "    </tr>\n",
       "  </tbody>\n",
       "</table>\n",
       "</div>"
      ],
      "text/plain": [
       "      AT      V       AP     RH      PE\n",
       "0  14.96  41.76  1024.07  73.17  463.26\n",
       "1  25.18  62.96  1020.04  59.08  444.37\n",
       "2   5.11  39.40  1012.16  92.14  488.56\n",
       "3  20.86  57.32  1010.24  76.64  446.48\n",
       "4  10.82  37.50  1009.23  96.62  473.90"
      ]
     },
     "execution_count": 2,
     "metadata": {},
     "output_type": "execute_result"
    }
   ],
   "source": [
    "data = pd.read_csv(\"numbers.csv\")\n",
    "data.head()"
   ]
  },
  {
   "attachments": {},
   "cell_type": "markdown",
   "id": "ee71130b",
   "metadata": {},
   "source": [
    "Shape the dataset"
   ]
  },
  {
   "cell_type": "code",
   "execution_count": 3,
   "id": "inclusive-spelling",
   "metadata": {},
   "outputs": [],
   "source": [
    "X = data.iloc[:, :4].values\n",
    "Y = data.iloc[:, 4].values.reshape(-1,1)"
   ]
  },
  {
   "cell_type": "code",
   "execution_count": 4,
   "id": "nervous-folder",
   "metadata": {},
   "outputs": [
    {
     "name": "stdout",
     "output_type": "stream",
     "text": [
      "[[  14.96   41.76 1024.07   73.17]\n",
      " [  25.18   62.96 1020.04   59.08]\n",
      " [   5.11   39.4  1012.16   92.14]\n",
      " ...\n",
      " [  31.32   74.33 1012.92   36.48]\n",
      " [  24.48   69.45 1013.86   62.39]\n",
      " [  21.6    62.52 1017.23   67.87]]\n",
      "[[463.26]\n",
      " [444.37]\n",
      " [488.56]\n",
      " ...\n",
      " [429.57]\n",
      " [435.74]\n",
      " [453.28]]\n",
      "(9568, 4)\n",
      "(9568, 1)\n"
     ]
    }
   ],
   "source": [
    "print(X)\n",
    "print(Y)\n",
    "\n",
    "print(np.shape(X))\n",
    "print(np.shape(Y))"
   ]
  },
  {
   "attachments": {},
   "cell_type": "markdown",
   "id": "2a8db880",
   "metadata": {},
   "source": [
    "Split data into testing, training and valuation sets"
   ]
  },
  {
   "cell_type": "code",
   "execution_count": 5,
   "id": "killing-fault",
   "metadata": {},
   "outputs": [],
   "source": [
    "from sklearn.model_selection import train_test_split\n",
    "#X_train, X_test, Y_train, Y_test = train_test_split(X, Y, test_size = .2, random_state=2021)\n",
    "\n",
    "Xtrain, Xtest, Ytrain, Ytest = train_test_split(X, Y, test_size=0.2, random_state=0)\n",
    "Xtrain, Xval, Ytrain, Yval = train_test_split(Xtrain, Ytrain, test_size=0.2, random_state=0)"
   ]
  },
  {
   "attachments": {},
   "cell_type": "markdown",
   "id": "394ce3c0",
   "metadata": {},
   "source": [
    "Run Linear Regression model"
   ]
  },
  {
   "cell_type": "code",
   "execution_count": 6,
   "id": "early-motivation",
   "metadata": {},
   "outputs": [],
   "source": [
    "from sklearn.linear_model import LinearRegression\n",
    "# Create and fit the linear regression model\n",
    "regr = LinearRegression()\n",
    "regr.fit(Xtrain, Ytrain)\n",
    "\n",
    "# Make predictions on the validation set\n",
    "pred = regr.predict(Xval)"
   ]
  },
  {
   "attachments": {},
   "cell_type": "markdown",
   "id": "16c1d7db",
   "metadata": {},
   "source": [
    "Config and Run GridSearchCV"
   ]
  },
  {
   "cell_type": "code",
   "execution_count": 7,
   "id": "particular-frontier",
   "metadata": {},
   "outputs": [],
   "source": [
    "# Make a dictionary of hyperparameter values to search\n",
    "search_space = {\n",
    "    \"fit_intercept\" : [True, False],\n",
    "    \"copy_X\" : [True, False],\n",
    "    \"n_jobs\" : [-1, 1],\n",
    "    \"positive\" : [True, False]\n",
    "}"
   ]
  },
  {
   "cell_type": "code",
   "execution_count": 8,
   "id": "municipal-things",
   "metadata": {},
   "outputs": [],
   "source": [
    "from sklearn.model_selection import GridSearchCV\n",
    "\n",
    "GS = GridSearchCV(estimator = LinearRegression(),\n",
    "                  param_grid = search_space,\n",
    "                  scoring = [\"r2\", \"neg_mean_squared_error\"], \n",
    "                  refit = \"r2\",\n",
    "                  cv = 5,\n",
    "                  verbose = 4)"
   ]
  },
  {
   "cell_type": "code",
   "execution_count": 9,
   "id": "ecb6826a",
   "metadata": {},
   "outputs": [
    {
     "name": "stdout",
     "output_type": "stream",
     "text": [
      "Fitting 5 folds for each of 16 candidates, totalling 80 fits\n",
      "[CV 1/5] END copy_X=True, fit_intercept=True, n_jobs=-1, positive=True; neg_mean_squared_error: (test=-195.609) r2: (test=0.376) total time=   0.6s\n",
      "[CV 2/5] END copy_X=True, fit_intercept=True, n_jobs=-1, positive=True; neg_mean_squared_error: (test=-194.659) r2: (test=0.372) total time=   0.1s\n",
      "[CV 3/5] END copy_X=True, fit_intercept=True, n_jobs=-1, positive=True; neg_mean_squared_error: (test=-178.244) r2: (test=0.367) total time=   0.1s\n",
      "[CV 4/5] END copy_X=True, fit_intercept=True, n_jobs=-1, positive=True; neg_mean_squared_error: (test=-174.796) r2: (test=0.408) total time=   0.1s\n",
      "[CV 5/5] END copy_X=True, fit_intercept=True, n_jobs=-1, positive=True; neg_mean_squared_error: (test=-154.977) r2: (test=0.405) total time=   0.2s\n",
      "[CV 1/5] END copy_X=True, fit_intercept=True, n_jobs=-1, positive=False; neg_mean_squared_error: (test=-18.862) r2: (test=0.940) total time=   0.0s\n",
      "[CV 2/5] END copy_X=True, fit_intercept=True, n_jobs=-1, positive=False; neg_mean_squared_error: (test=-20.016) r2: (test=0.935) total time=   0.0s\n",
      "[CV 3/5] END copy_X=True, fit_intercept=True, n_jobs=-1, positive=False; neg_mean_squared_error: (test=-18.407) r2: (test=0.935) total time=   0.0s\n",
      "[CV 4/5] END copy_X=True, fit_intercept=True, n_jobs=-1, positive=False; neg_mean_squared_error: (test=-21.357) r2: (test=0.928) total time=   0.0s\n",
      "[CV 5/5] END copy_X=True, fit_intercept=True, n_jobs=-1, positive=False; neg_mean_squared_error: (test=-20.453) r2: (test=0.921) total time=   0.0s\n",
      "[CV 1/5] END copy_X=True, fit_intercept=True, n_jobs=1, positive=True; neg_mean_squared_error: (test=-195.609) r2: (test=0.376) total time=   0.0s\n",
      "[CV 2/5] END copy_X=True, fit_intercept=True, n_jobs=1, positive=True; neg_mean_squared_error: (test=-194.659) r2: (test=0.372) total time=   0.0s\n",
      "[CV 3/5] END copy_X=True, fit_intercept=True, n_jobs=1, positive=True; neg_mean_squared_error: (test=-178.244) r2: (test=0.367) total time=   0.0s\n",
      "[CV 4/5] END copy_X=True, fit_intercept=True, n_jobs=1, positive=True; neg_mean_squared_error: (test=-174.796) r2: (test=0.408) total time=   0.0s\n",
      "[CV 5/5] END copy_X=True, fit_intercept=True, n_jobs=1, positive=True; neg_mean_squared_error: (test=-154.977) r2: (test=0.405) total time=   0.0s\n",
      "[CV 1/5] END copy_X=True, fit_intercept=True, n_jobs=1, positive=False; neg_mean_squared_error: (test=-18.862) r2: (test=0.940) total time=   0.0s\n",
      "[CV 2/5] END copy_X=True, fit_intercept=True, n_jobs=1, positive=False; neg_mean_squared_error: (test=-20.016) r2: (test=0.935) total time=   0.0s\n",
      "[CV 3/5] END copy_X=True, fit_intercept=True, n_jobs=1, positive=False; neg_mean_squared_error: (test=-18.407) r2: (test=0.935) total time=   0.0s\n",
      "[CV 4/5] END copy_X=True, fit_intercept=True, n_jobs=1, positive=False; neg_mean_squared_error: (test=-21.357) r2: (test=0.928) total time=   0.0s\n",
      "[CV 5/5] END copy_X=True, fit_intercept=True, n_jobs=1, positive=False; neg_mean_squared_error: (test=-20.453) r2: (test=0.921) total time=   0.0s\n",
      "[CV 1/5] END copy_X=True, fit_intercept=False, n_jobs=-1, positive=True; neg_mean_squared_error: (test=-236.886) r2: (test=0.244) total time=   0.2s\n",
      "[CV 2/5] END copy_X=True, fit_intercept=False, n_jobs=-1, positive=True; neg_mean_squared_error: (test=-228.593) r2: (test=0.263) total time=   0.0s\n",
      "[CV 3/5] END copy_X=True, fit_intercept=False, n_jobs=-1, positive=True; neg_mean_squared_error: (test=-211.152) r2: (test=0.250) total time=   0.0s\n",
      "[CV 4/5] END copy_X=True, fit_intercept=False, n_jobs=-1, positive=True; neg_mean_squared_error: (test=-199.580) r2: (test=0.324) total time=   0.0s\n",
      "[CV 5/5] END copy_X=True, fit_intercept=False, n_jobs=-1, positive=True; neg_mean_squared_error: (test=-185.749) r2: (test=0.287) total time=   0.0s\n",
      "[CV 1/5] END copy_X=True, fit_intercept=False, n_jobs=-1, positive=False; neg_mean_squared_error: (test=-24.894) r2: (test=0.921) total time=   0.0s\n",
      "[CV 2/5] END copy_X=True, fit_intercept=False, n_jobs=-1, positive=False; neg_mean_squared_error: (test=-24.477) r2: (test=0.921) total time=   0.0s\n",
      "[CV 3/5] END copy_X=True, fit_intercept=False, n_jobs=-1, positive=False; neg_mean_squared_error: (test=-22.648) r2: (test=0.920) total time=   0.0s\n",
      "[CV 4/5] END copy_X=True, fit_intercept=False, n_jobs=-1, positive=False; neg_mean_squared_error: (test=-27.080) r2: (test=0.908) total time=   0.0s\n",
      "[CV 5/5] END copy_X=True, fit_intercept=False, n_jobs=-1, positive=False; neg_mean_squared_error: (test=-24.181) r2: (test=0.907) total time=   0.0s\n",
      "[CV 1/5] END copy_X=True, fit_intercept=False, n_jobs=1, positive=True; neg_mean_squared_error: (test=-236.886) r2: (test=0.244) total time=   0.0s\n",
      "[CV 2/5] END copy_X=True, fit_intercept=False, n_jobs=1, positive=True; neg_mean_squared_error: (test=-228.593) r2: (test=0.263) total time=   0.0s\n",
      "[CV 3/5] END copy_X=True, fit_intercept=False, n_jobs=1, positive=True; neg_mean_squared_error: (test=-211.152) r2: (test=0.250) total time=   0.0s\n",
      "[CV 4/5] END copy_X=True, fit_intercept=False, n_jobs=1, positive=True; neg_mean_squared_error: (test=-199.580) r2: (test=0.324) total time=   0.0s\n",
      "[CV 5/5] END copy_X=True, fit_intercept=False, n_jobs=1, positive=True; neg_mean_squared_error: (test=-185.749) r2: (test=0.287) total time=   0.0s\n",
      "[CV 1/5] END copy_X=True, fit_intercept=False, n_jobs=1, positive=False; neg_mean_squared_error: (test=-24.894) r2: (test=0.921) total time=   0.0s\n",
      "[CV 2/5] END copy_X=True, fit_intercept=False, n_jobs=1, positive=False; neg_mean_squared_error: (test=-24.477) r2: (test=0.921) total time=   0.0s\n",
      "[CV 3/5] END copy_X=True, fit_intercept=False, n_jobs=1, positive=False; neg_mean_squared_error: (test=-22.648) r2: (test=0.920) total time=   0.0s\n",
      "[CV 4/5] END copy_X=True, fit_intercept=False, n_jobs=1, positive=False; neg_mean_squared_error: (test=-27.080) r2: (test=0.908) total time=   0.0s\n",
      "[CV 5/5] END copy_X=True, fit_intercept=False, n_jobs=1, positive=False; neg_mean_squared_error: (test=-24.181) r2: (test=0.907) total time=   0.0s\n",
      "[CV 1/5] END copy_X=False, fit_intercept=True, n_jobs=-1, positive=True; neg_mean_squared_error: (test=-195.609) r2: (test=0.376) total time=   0.0s\n",
      "[CV 2/5] END copy_X=False, fit_intercept=True, n_jobs=-1, positive=True; neg_mean_squared_error: (test=-194.659) r2: (test=0.372) total time=   0.0s\n",
      "[CV 3/5] END copy_X=False, fit_intercept=True, n_jobs=-1, positive=True; neg_mean_squared_error: (test=-178.244) r2: (test=0.367) total time=   0.0s\n",
      "[CV 4/5] END copy_X=False, fit_intercept=True, n_jobs=-1, positive=True; neg_mean_squared_error: (test=-174.796) r2: (test=0.408) total time=   0.0s\n",
      "[CV 5/5] END copy_X=False, fit_intercept=True, n_jobs=-1, positive=True; neg_mean_squared_error: (test=-154.977) r2: (test=0.405) total time=   0.0s\n",
      "[CV 1/5] END copy_X=False, fit_intercept=True, n_jobs=-1, positive=False; neg_mean_squared_error: (test=-18.862) r2: (test=0.940) total time=   0.0s\n",
      "[CV 2/5] END copy_X=False, fit_intercept=True, n_jobs=-1, positive=False; neg_mean_squared_error: (test=-20.016) r2: (test=0.935) total time=   0.0s\n",
      "[CV 3/5] END copy_X=False, fit_intercept=True, n_jobs=-1, positive=False; neg_mean_squared_error: (test=-18.407) r2: (test=0.935) total time=   0.0s\n",
      "[CV 4/5] END copy_X=False, fit_intercept=True, n_jobs=-1, positive=False; neg_mean_squared_error: (test=-21.357) r2: (test=0.928) total time=   0.0s\n",
      "[CV 5/5] END copy_X=False, fit_intercept=True, n_jobs=-1, positive=False; neg_mean_squared_error: (test=-20.453) r2: (test=0.921) total time=   0.0s\n",
      "[CV 1/5] END copy_X=False, fit_intercept=True, n_jobs=1, positive=True; neg_mean_squared_error: (test=-195.609) r2: (test=0.376) total time=   0.0s\n",
      "[CV 2/5] END copy_X=False, fit_intercept=True, n_jobs=1, positive=True; neg_mean_squared_error: (test=-194.659) r2: (test=0.372) total time=   0.0s\n",
      "[CV 3/5] END copy_X=False, fit_intercept=True, n_jobs=1, positive=True; neg_mean_squared_error: (test=-178.244) r2: (test=0.367) total time=   0.0s\n",
      "[CV 4/5] END copy_X=False, fit_intercept=True, n_jobs=1, positive=True; neg_mean_squared_error: (test=-174.796) r2: (test=0.408) total time=   0.0s\n",
      "[CV 5/5] END copy_X=False, fit_intercept=True, n_jobs=1, positive=True; neg_mean_squared_error: (test=-154.977) r2: (test=0.405) total time=   0.0s\n",
      "[CV 1/5] END copy_X=False, fit_intercept=True, n_jobs=1, positive=False; neg_mean_squared_error: (test=-18.862) r2: (test=0.940) total time=   0.0s\n",
      "[CV 2/5] END copy_X=False, fit_intercept=True, n_jobs=1, positive=False; neg_mean_squared_error: (test=-20.016) r2: (test=0.935) total time=   0.0s\n",
      "[CV 3/5] END copy_X=False, fit_intercept=True, n_jobs=1, positive=False; neg_mean_squared_error: (test=-18.407) r2: (test=0.935) total time=   0.0s\n",
      "[CV 4/5] END copy_X=False, fit_intercept=True, n_jobs=1, positive=False; neg_mean_squared_error: (test=-21.357) r2: (test=0.928) total time=   0.0s\n",
      "[CV 5/5] END copy_X=False, fit_intercept=True, n_jobs=1, positive=False; neg_mean_squared_error: (test=-20.453) r2: (test=0.921) total time=   0.0s\n",
      "[CV 1/5] END copy_X=False, fit_intercept=False, n_jobs=-1, positive=True; neg_mean_squared_error: (test=-236.886) r2: (test=0.244) total time=   0.0s\n",
      "[CV 2/5] END copy_X=False, fit_intercept=False, n_jobs=-1, positive=True; neg_mean_squared_error: (test=-228.593) r2: (test=0.263) total time=   0.0s\n",
      "[CV 3/5] END copy_X=False, fit_intercept=False, n_jobs=-1, positive=True; neg_mean_squared_error: (test=-211.152) r2: (test=0.250) total time=   0.0s\n",
      "[CV 4/5] END copy_X=False, fit_intercept=False, n_jobs=-1, positive=True; neg_mean_squared_error: (test=-199.580) r2: (test=0.324) total time=   0.0s\n",
      "[CV 5/5] END copy_X=False, fit_intercept=False, n_jobs=-1, positive=True; neg_mean_squared_error: (test=-185.749) r2: (test=0.287) total time=   0.0s\n",
      "[CV 1/5] END copy_X=False, fit_intercept=False, n_jobs=-1, positive=False; neg_mean_squared_error: (test=-24.894) r2: (test=0.921) total time=   0.0s\n",
      "[CV 2/5] END copy_X=False, fit_intercept=False, n_jobs=-1, positive=False; neg_mean_squared_error: (test=-24.477) r2: (test=0.921) total time=   0.0s\n",
      "[CV 3/5] END copy_X=False, fit_intercept=False, n_jobs=-1, positive=False; neg_mean_squared_error: (test=-22.648) r2: (test=0.920) total time=   0.0s\n",
      "[CV 4/5] END copy_X=False, fit_intercept=False, n_jobs=-1, positive=False; neg_mean_squared_error: (test=-27.080) r2: (test=0.908) total time=   0.0s\n",
      "[CV 5/5] END copy_X=False, fit_intercept=False, n_jobs=-1, positive=False; neg_mean_squared_error: (test=-24.181) r2: (test=0.907) total time=   0.0s\n",
      "[CV 1/5] END copy_X=False, fit_intercept=False, n_jobs=1, positive=True; neg_mean_squared_error: (test=-236.886) r2: (test=0.244) total time=   0.0s\n",
      "[CV 2/5] END copy_X=False, fit_intercept=False, n_jobs=1, positive=True; neg_mean_squared_error: (test=-228.593) r2: (test=0.263) total time=   0.0s\n",
      "[CV 3/5] END copy_X=False, fit_intercept=False, n_jobs=1, positive=True; neg_mean_squared_error: (test=-211.152) r2: (test=0.250) total time=   0.0s\n",
      "[CV 4/5] END copy_X=False, fit_intercept=False, n_jobs=1, positive=True; neg_mean_squared_error: (test=-199.580) r2: (test=0.324) total time=   0.0s\n",
      "[CV 5/5] END copy_X=False, fit_intercept=False, n_jobs=1, positive=True; neg_mean_squared_error: (test=-185.749) r2: (test=0.287) total time=   0.0s\n",
      "[CV 1/5] END copy_X=False, fit_intercept=False, n_jobs=1, positive=False; neg_mean_squared_error: (test=-24.894) r2: (test=0.921) total time=   0.0s\n",
      "[CV 2/5] END copy_X=False, fit_intercept=False, n_jobs=1, positive=False; neg_mean_squared_error: (test=-24.477) r2: (test=0.921) total time=   0.0s\n",
      "[CV 3/5] END copy_X=False, fit_intercept=False, n_jobs=1, positive=False; neg_mean_squared_error: (test=-22.648) r2: (test=0.920) total time=   0.0s\n",
      "[CV 4/5] END copy_X=False, fit_intercept=False, n_jobs=1, positive=False; neg_mean_squared_error: (test=-27.080) r2: (test=0.908) total time=   0.0s\n",
      "[CV 5/5] END copy_X=False, fit_intercept=False, n_jobs=1, positive=False; neg_mean_squared_error: (test=-24.181) r2: (test=0.907) total time=   0.0s\n"
     ]
    },
    {
     "data": {
      "text/html": [
       "<style>#sk-container-id-1 {color: black;background-color: white;}#sk-container-id-1 pre{padding: 0;}#sk-container-id-1 div.sk-toggleable {background-color: white;}#sk-container-id-1 label.sk-toggleable__label {cursor: pointer;display: block;width: 100%;margin-bottom: 0;padding: 0.3em;box-sizing: border-box;text-align: center;}#sk-container-id-1 label.sk-toggleable__label-arrow:before {content: \"▸\";float: left;margin-right: 0.25em;color: #696969;}#sk-container-id-1 label.sk-toggleable__label-arrow:hover:before {color: black;}#sk-container-id-1 div.sk-estimator:hover label.sk-toggleable__label-arrow:before {color: black;}#sk-container-id-1 div.sk-toggleable__content {max-height: 0;max-width: 0;overflow: hidden;text-align: left;background-color: #f0f8ff;}#sk-container-id-1 div.sk-toggleable__content pre {margin: 0.2em;color: black;border-radius: 0.25em;background-color: #f0f8ff;}#sk-container-id-1 input.sk-toggleable__control:checked~div.sk-toggleable__content {max-height: 200px;max-width: 100%;overflow: auto;}#sk-container-id-1 input.sk-toggleable__control:checked~label.sk-toggleable__label-arrow:before {content: \"▾\";}#sk-container-id-1 div.sk-estimator input.sk-toggleable__control:checked~label.sk-toggleable__label {background-color: #d4ebff;}#sk-container-id-1 div.sk-label input.sk-toggleable__control:checked~label.sk-toggleable__label {background-color: #d4ebff;}#sk-container-id-1 input.sk-hidden--visually {border: 0;clip: rect(1px 1px 1px 1px);clip: rect(1px, 1px, 1px, 1px);height: 1px;margin: -1px;overflow: hidden;padding: 0;position: absolute;width: 1px;}#sk-container-id-1 div.sk-estimator {font-family: monospace;background-color: #f0f8ff;border: 1px dotted black;border-radius: 0.25em;box-sizing: border-box;margin-bottom: 0.5em;}#sk-container-id-1 div.sk-estimator:hover {background-color: #d4ebff;}#sk-container-id-1 div.sk-parallel-item::after {content: \"\";width: 100%;border-bottom: 1px solid gray;flex-grow: 1;}#sk-container-id-1 div.sk-label:hover label.sk-toggleable__label {background-color: #d4ebff;}#sk-container-id-1 div.sk-serial::before {content: \"\";position: absolute;border-left: 1px solid gray;box-sizing: border-box;top: 0;bottom: 0;left: 50%;z-index: 0;}#sk-container-id-1 div.sk-serial {display: flex;flex-direction: column;align-items: center;background-color: white;padding-right: 0.2em;padding-left: 0.2em;position: relative;}#sk-container-id-1 div.sk-item {position: relative;z-index: 1;}#sk-container-id-1 div.sk-parallel {display: flex;align-items: stretch;justify-content: center;background-color: white;position: relative;}#sk-container-id-1 div.sk-item::before, #sk-container-id-1 div.sk-parallel-item::before {content: \"\";position: absolute;border-left: 1px solid gray;box-sizing: border-box;top: 0;bottom: 0;left: 50%;z-index: -1;}#sk-container-id-1 div.sk-parallel-item {display: flex;flex-direction: column;z-index: 1;position: relative;background-color: white;}#sk-container-id-1 div.sk-parallel-item:first-child::after {align-self: flex-end;width: 50%;}#sk-container-id-1 div.sk-parallel-item:last-child::after {align-self: flex-start;width: 50%;}#sk-container-id-1 div.sk-parallel-item:only-child::after {width: 0;}#sk-container-id-1 div.sk-dashed-wrapped {border: 1px dashed gray;margin: 0 0.4em 0.5em 0.4em;box-sizing: border-box;padding-bottom: 0.4em;background-color: white;}#sk-container-id-1 div.sk-label label {font-family: monospace;font-weight: bold;display: inline-block;line-height: 1.2em;}#sk-container-id-1 div.sk-label-container {text-align: center;}#sk-container-id-1 div.sk-container {/* jupyter's `normalize.less` sets `[hidden] { display: none; }` but bootstrap.min.css set `[hidden] { display: none !important; }` so we also need the `!important` here to be able to override the default hidden behavior on the sphinx rendered scikit-learn.org. See: https://github.com/scikit-learn/scikit-learn/issues/21755 */display: inline-block !important;position: relative;}#sk-container-id-1 div.sk-text-repr-fallback {display: none;}</style><div id=\"sk-container-id-1\" class=\"sk-top-container\"><div class=\"sk-text-repr-fallback\"><pre>GridSearchCV(cv=5, estimator=LinearRegression(),\n",
       "             param_grid={&#x27;copy_X&#x27;: [True, False],\n",
       "                         &#x27;fit_intercept&#x27;: [True, False], &#x27;n_jobs&#x27;: [-1, 1],\n",
       "                         &#x27;positive&#x27;: [True, False]},\n",
       "             refit=&#x27;r2&#x27;, scoring=[&#x27;r2&#x27;, &#x27;neg_mean_squared_error&#x27;], verbose=4)</pre><b>In a Jupyter environment, please rerun this cell to show the HTML representation or trust the notebook. <br />On GitHub, the HTML representation is unable to render, please try loading this page with nbviewer.org.</b></div><div class=\"sk-container\" hidden><div class=\"sk-item sk-dashed-wrapped\"><div class=\"sk-label-container\"><div class=\"sk-label sk-toggleable\"><input class=\"sk-toggleable__control sk-hidden--visually\" id=\"sk-estimator-id-1\" type=\"checkbox\" ><label for=\"sk-estimator-id-1\" class=\"sk-toggleable__label sk-toggleable__label-arrow\">GridSearchCV</label><div class=\"sk-toggleable__content\"><pre>GridSearchCV(cv=5, estimator=LinearRegression(),\n",
       "             param_grid={&#x27;copy_X&#x27;: [True, False],\n",
       "                         &#x27;fit_intercept&#x27;: [True, False], &#x27;n_jobs&#x27;: [-1, 1],\n",
       "                         &#x27;positive&#x27;: [True, False]},\n",
       "             refit=&#x27;r2&#x27;, scoring=[&#x27;r2&#x27;, &#x27;neg_mean_squared_error&#x27;], verbose=4)</pre></div></div></div><div class=\"sk-parallel\"><div class=\"sk-parallel-item\"><div class=\"sk-item\"><div class=\"sk-label-container\"><div class=\"sk-label sk-toggleable\"><input class=\"sk-toggleable__control sk-hidden--visually\" id=\"sk-estimator-id-2\" type=\"checkbox\" ><label for=\"sk-estimator-id-2\" class=\"sk-toggleable__label sk-toggleable__label-arrow\">estimator: LinearRegression</label><div class=\"sk-toggleable__content\"><pre>LinearRegression()</pre></div></div></div><div class=\"sk-serial\"><div class=\"sk-item\"><div class=\"sk-estimator sk-toggleable\"><input class=\"sk-toggleable__control sk-hidden--visually\" id=\"sk-estimator-id-3\" type=\"checkbox\" ><label for=\"sk-estimator-id-3\" class=\"sk-toggleable__label sk-toggleable__label-arrow\">LinearRegression</label><div class=\"sk-toggleable__content\"><pre>LinearRegression()</pre></div></div></div></div></div></div></div></div></div></div>"
      ],
      "text/plain": [
       "GridSearchCV(cv=5, estimator=LinearRegression(),\n",
       "             param_grid={'copy_X': [True, False],\n",
       "                         'fit_intercept': [True, False], 'n_jobs': [-1, 1],\n",
       "                         'positive': [True, False]},\n",
       "             refit='r2', scoring=['r2', 'neg_mean_squared_error'], verbose=4)"
      ]
     },
     "execution_count": 9,
     "metadata": {},
     "output_type": "execute_result"
    }
   ],
   "source": [
    "GS.fit(Xtest, Ytest)"
   ]
  },
  {
   "cell_type": "code",
   "execution_count": 10,
   "id": "descending-denver",
   "metadata": {},
   "outputs": [
    {
     "name": "stdout",
     "output_type": "stream",
     "text": [
      "best model:  LinearRegression(n_jobs=-1)\n",
      "best parameter values:  {'copy_X': True, 'fit_intercept': True, 'n_jobs': -1, 'positive': False}\n",
      "best r^2 value:  0.9317961881853025\n"
     ]
    }
   ],
   "source": [
    "print(\"best model: \", GS.best_estimator_) # to get the complete details of the best model\n",
    "print(\"best parameter values: \", GS.best_params_) # to get only the best hyperparameter values that we searched for\n",
    "print(\"best r^2 value: \", GS.best_score_) # score according to the metric we passed in refit"
   ]
  },
  {
   "cell_type": "code",
   "execution_count": 11,
   "id": "certain-lease",
   "metadata": {},
   "outputs": [],
   "source": [
    "df = pd.DataFrame(GS.cv_results_)\n",
    "df = df.sort_values(\"rank_test_r2\")\n",
    "df.to_csv(\"cv_results.csv\", index = False)"
   ]
  }
 ],
 "metadata": {
  "kernelspec": {
   "display_name": "Python 3",
   "language": "python",
   "name": "python3"
  },
  "language_info": {
   "codemirror_mode": {
    "name": "ipython",
    "version": 3
   },
   "file_extension": ".py",
   "mimetype": "text/x-python",
   "name": "python",
   "nbconvert_exporter": "python",
   "pygments_lexer": "ipython3",
   "version": "3.11.3"
  }
 },
 "nbformat": 4,
 "nbformat_minor": 5
}
